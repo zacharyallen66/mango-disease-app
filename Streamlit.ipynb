{
 "cells": [
  {
   "cell_type": "code",
   "execution_count": 7,
   "id": "5d8eb1e4-9c80-442e-ace2-30be0e95524d",
   "metadata": {},
   "outputs": [
    {
     "name": "stdout",
     "output_type": "stream",
     "text": [
      "Requirement already satisfied: streamlit in c:\\users\\zace5\\anaconda3\\envs\\myenv\\lib\\site-packages (1.45.0)Note: you may need to restart the kernel to use updated packages.\n",
      "\n",
      "Requirement already satisfied: tensorflow in c:\\users\\zace5\\anaconda3\\envs\\myenv\\lib\\site-packages (2.18.0)\n",
      "Requirement already satisfied: pillow in c:\\users\\zace5\\anaconda3\\envs\\myenv\\lib\\site-packages (11.0.0)\n",
      "Requirement already satisfied: numpy in c:\\users\\zace5\\anaconda3\\envs\\myenv\\lib\\site-packages (1.26.4)\n",
      "Requirement already satisfied: altair<6,>=4.0 in c:\\users\\zace5\\anaconda3\\envs\\myenv\\lib\\site-packages (from streamlit) (5.5.0)\n",
      "Requirement already satisfied: blinker<2,>=1.5.0 in c:\\users\\zace5\\anaconda3\\envs\\myenv\\lib\\site-packages (from streamlit) (1.9.0)\n",
      "Requirement already satisfied: cachetools<6,>=4.0 in c:\\users\\zace5\\anaconda3\\envs\\myenv\\lib\\site-packages (from streamlit) (5.5.2)\n",
      "Requirement already satisfied: click<9,>=7.0 in c:\\users\\zace5\\anaconda3\\envs\\myenv\\lib\\site-packages (from streamlit) (8.1.8)\n",
      "Requirement already satisfied: packaging<25,>=20 in c:\\users\\zace5\\anaconda3\\envs\\myenv\\lib\\site-packages (from streamlit) (24.1)\n",
      "Requirement already satisfied: pandas<3,>=1.4.0 in c:\\users\\zace5\\anaconda3\\envs\\myenv\\lib\\site-packages (from streamlit) (2.2.3)\n",
      "Requirement already satisfied: protobuf<7,>=3.20 in c:\\users\\zace5\\anaconda3\\envs\\myenv\\lib\\site-packages (from streamlit) (6.30.2)\n",
      "Requirement already satisfied: pyarrow>=7.0 in c:\\users\\zace5\\anaconda3\\envs\\myenv\\lib\\site-packages (from streamlit) (19.0.1)\n",
      "Requirement already satisfied: requests<3,>=2.27 in c:\\users\\zace5\\anaconda3\\envs\\myenv\\lib\\site-packages (from streamlit) (2.32.3)\n",
      "Requirement already satisfied: tenacity<10,>=8.1.0 in c:\\users\\zace5\\anaconda3\\envs\\myenv\\lib\\site-packages (from streamlit) (9.1.2)\n",
      "Requirement already satisfied: toml<2,>=0.10.1 in c:\\users\\zace5\\anaconda3\\envs\\myenv\\lib\\site-packages (from streamlit) (0.10.2)\n",
      "Requirement already satisfied: typing-extensions<5,>=4.4.0 in c:\\users\\zace5\\anaconda3\\envs\\myenv\\lib\\site-packages (from streamlit) (4.12.2)\n",
      "Requirement already satisfied: watchdog<7,>=2.1.5 in c:\\users\\zace5\\anaconda3\\envs\\myenv\\lib\\site-packages (from streamlit) (6.0.0)\n",
      "Requirement already satisfied: gitpython!=3.1.19,<4,>=3.0.7 in c:\\users\\zace5\\anaconda3\\envs\\myenv\\lib\\site-packages (from streamlit) (3.1.44)\n",
      "Requirement already satisfied: pydeck<1,>=0.8.0b4 in c:\\users\\zace5\\anaconda3\\envs\\myenv\\lib\\site-packages (from streamlit) (0.9.1)\n",
      "Requirement already satisfied: tornado<7,>=6.0.3 in c:\\users\\zace5\\anaconda3\\envs\\myenv\\lib\\site-packages (from streamlit) (6.4.1)\n",
      "Requirement already satisfied: tensorflow-intel==2.18.0 in c:\\users\\zace5\\anaconda3\\envs\\myenv\\lib\\site-packages (from tensorflow) (2.18.0)\n",
      "Requirement already satisfied: absl-py>=1.0.0 in c:\\users\\zace5\\anaconda3\\envs\\myenv\\lib\\site-packages (from tensorflow-intel==2.18.0->tensorflow) (2.1.0)\n",
      "Requirement already satisfied: astunparse>=1.6.0 in c:\\users\\zace5\\anaconda3\\envs\\myenv\\lib\\site-packages (from tensorflow-intel==2.18.0->tensorflow) (1.6.3)\n",
      "Requirement already satisfied: flatbuffers>=24.3.25 in c:\\users\\zace5\\anaconda3\\envs\\myenv\\lib\\site-packages (from tensorflow-intel==2.18.0->tensorflow) (24.3.25)\n",
      "Requirement already satisfied: gast!=0.5.0,!=0.5.1,!=0.5.2,>=0.2.1 in c:\\users\\zace5\\anaconda3\\envs\\myenv\\lib\\site-packages (from tensorflow-intel==2.18.0->tensorflow) (0.6.0)\n",
      "Requirement already satisfied: google-pasta>=0.1.1 in c:\\users\\zace5\\anaconda3\\envs\\myenv\\lib\\site-packages (from tensorflow-intel==2.18.0->tensorflow) (0.2.0)\n",
      "Requirement already satisfied: libclang>=13.0.0 in c:\\users\\zace5\\anaconda3\\envs\\myenv\\lib\\site-packages (from tensorflow-intel==2.18.0->tensorflow) (18.1.1)\n",
      "Requirement already satisfied: opt-einsum>=2.3.2 in c:\\users\\zace5\\anaconda3\\envs\\myenv\\lib\\site-packages (from tensorflow-intel==2.18.0->tensorflow) (3.4.0)\n",
      "Collecting protobuf<7,>=3.20 (from streamlit)\n",
      "  Downloading protobuf-5.29.4-cp310-abi3-win_amd64.whl.metadata (592 bytes)\n",
      "Requirement already satisfied: setuptools in c:\\users\\zace5\\anaconda3\\envs\\myenv\\lib\\site-packages (from tensorflow-intel==2.18.0->tensorflow) (75.1.0)\n",
      "Requirement already satisfied: six>=1.12.0 in c:\\users\\zace5\\anaconda3\\envs\\myenv\\lib\\site-packages (from tensorflow-intel==2.18.0->tensorflow) (1.16.0)\n",
      "Requirement already satisfied: termcolor>=1.1.0 in c:\\users\\zace5\\anaconda3\\envs\\myenv\\lib\\site-packages (from tensorflow-intel==2.18.0->tensorflow) (2.5.0)\n",
      "Requirement already satisfied: wrapt>=1.11.0 in c:\\users\\zace5\\anaconda3\\envs\\myenv\\lib\\site-packages (from tensorflow-intel==2.18.0->tensorflow) (1.16.0)\n",
      "Requirement already satisfied: grpcio<2.0,>=1.24.3 in c:\\users\\zace5\\anaconda3\\envs\\myenv\\lib\\site-packages (from tensorflow-intel==2.18.0->tensorflow) (1.67.0)\n",
      "Requirement already satisfied: tensorboard<2.19,>=2.18 in c:\\users\\zace5\\anaconda3\\envs\\myenv\\lib\\site-packages (from tensorflow-intel==2.18.0->tensorflow) (2.18.0)\n",
      "Requirement already satisfied: keras>=3.5.0 in c:\\users\\zace5\\anaconda3\\envs\\myenv\\lib\\site-packages (from tensorflow-intel==2.18.0->tensorflow) (3.9.0)\n",
      "Requirement already satisfied: h5py>=3.11.0 in c:\\users\\zace5\\anaconda3\\envs\\myenv\\lib\\site-packages (from tensorflow-intel==2.18.0->tensorflow) (3.11.0)\n",
      "Requirement already satisfied: ml-dtypes<0.5.0,>=0.4.0 in c:\\users\\zace5\\anaconda3\\envs\\myenv\\lib\\site-packages (from tensorflow-intel==2.18.0->tensorflow) (0.4.1)\n",
      "Requirement already satisfied: jinja2 in c:\\users\\zace5\\anaconda3\\envs\\myenv\\lib\\site-packages (from altair<6,>=4.0->streamlit) (3.1.4)\n",
      "Requirement already satisfied: jsonschema>=3.0 in c:\\users\\zace5\\anaconda3\\envs\\myenv\\lib\\site-packages (from altair<6,>=4.0->streamlit) (4.23.0)\n",
      "Requirement already satisfied: narwhals>=1.14.2 in c:\\users\\zace5\\anaconda3\\envs\\myenv\\lib\\site-packages (from altair<6,>=4.0->streamlit) (1.33.0)\n",
      "Requirement already satisfied: colorama in c:\\users\\zace5\\anaconda3\\envs\\myenv\\lib\\site-packages (from click<9,>=7.0->streamlit) (0.4.6)\n",
      "Requirement already satisfied: gitdb<5,>=4.0.1 in c:\\users\\zace5\\anaconda3\\envs\\myenv\\lib\\site-packages (from gitpython!=3.1.19,<4,>=3.0.7->streamlit) (4.0.12)\n",
      "Requirement already satisfied: python-dateutil>=2.8.2 in c:\\users\\zace5\\anaconda3\\envs\\myenv\\lib\\site-packages (from pandas<3,>=1.4.0->streamlit) (2.9.0.post0)\n",
      "Requirement already satisfied: pytz>=2020.1 in c:\\users\\zace5\\anaconda3\\envs\\myenv\\lib\\site-packages (from pandas<3,>=1.4.0->streamlit) (2024.1)\n",
      "Requirement already satisfied: tzdata>=2022.7 in c:\\users\\zace5\\anaconda3\\envs\\myenv\\lib\\site-packages (from pandas<3,>=1.4.0->streamlit) (2024.2)\n",
      "Requirement already satisfied: charset-normalizer<4,>=2 in c:\\users\\zace5\\anaconda3\\envs\\myenv\\lib\\site-packages (from requests<3,>=2.27->streamlit) (3.3.2)\n",
      "Requirement already satisfied: idna<4,>=2.5 in c:\\users\\zace5\\anaconda3\\envs\\myenv\\lib\\site-packages (from requests<3,>=2.27->streamlit) (3.10)\n",
      "Requirement already satisfied: urllib3<3,>=1.21.1 in c:\\users\\zace5\\anaconda3\\envs\\myenv\\lib\\site-packages (from requests<3,>=2.27->streamlit) (2.2.3)\n",
      "Requirement already satisfied: certifi>=2017.4.17 in c:\\users\\zace5\\anaconda3\\envs\\myenv\\lib\\site-packages (from requests<3,>=2.27->streamlit) (2024.8.30)\n",
      "Requirement already satisfied: wheel<1.0,>=0.23.0 in c:\\users\\zace5\\anaconda3\\envs\\myenv\\lib\\site-packages (from astunparse>=1.6.0->tensorflow-intel==2.18.0->tensorflow) (0.44.0)\n",
      "Requirement already satisfied: smmap<6,>=3.0.1 in c:\\users\\zace5\\anaconda3\\envs\\myenv\\lib\\site-packages (from gitdb<5,>=4.0.1->gitpython!=3.1.19,<4,>=3.0.7->streamlit) (5.0.2)\n",
      "Requirement already satisfied: MarkupSafe>=2.0 in c:\\users\\zace5\\anaconda3\\envs\\myenv\\lib\\site-packages (from jinja2->altair<6,>=4.0->streamlit) (2.1.3)\n",
      "Requirement already satisfied: attrs>=22.2.0 in c:\\users\\zace5\\anaconda3\\envs\\myenv\\lib\\site-packages (from jsonschema>=3.0->altair<6,>=4.0->streamlit) (24.2.0)\n",
      "Requirement already satisfied: jsonschema-specifications>=2023.03.6 in c:\\users\\zace5\\anaconda3\\envs\\myenv\\lib\\site-packages (from jsonschema>=3.0->altair<6,>=4.0->streamlit) (2023.7.1)\n",
      "Requirement already satisfied: referencing>=0.28.4 in c:\\users\\zace5\\anaconda3\\envs\\myenv\\lib\\site-packages (from jsonschema>=3.0->altair<6,>=4.0->streamlit) (0.30.2)\n",
      "Requirement already satisfied: rpds-py>=0.7.1 in c:\\users\\zace5\\anaconda3\\envs\\myenv\\lib\\site-packages (from jsonschema>=3.0->altair<6,>=4.0->streamlit) (0.10.6)\n",
      "Requirement already satisfied: rich in c:\\users\\zace5\\anaconda3\\envs\\myenv\\lib\\site-packages (from keras>=3.5.0->tensorflow-intel==2.18.0->tensorflow) (13.9.3)\n",
      "Requirement already satisfied: namex in c:\\users\\zace5\\anaconda3\\envs\\myenv\\lib\\site-packages (from keras>=3.5.0->tensorflow-intel==2.18.0->tensorflow) (0.0.8)\n",
      "Requirement already satisfied: optree in c:\\users\\zace5\\anaconda3\\envs\\myenv\\lib\\site-packages (from keras>=3.5.0->tensorflow-intel==2.18.0->tensorflow) (0.13.0)\n",
      "Requirement already satisfied: markdown>=2.6.8 in c:\\users\\zace5\\anaconda3\\envs\\myenv\\lib\\site-packages (from tensorboard<2.19,>=2.18->tensorflow-intel==2.18.0->tensorflow) (3.7)\n",
      "Requirement already satisfied: tensorboard-data-server<0.8.0,>=0.7.0 in c:\\users\\zace5\\anaconda3\\envs\\myenv\\lib\\site-packages (from tensorboard<2.19,>=2.18->tensorflow-intel==2.18.0->tensorflow) (0.7.2)\n",
      "Requirement already satisfied: werkzeug>=1.0.1 in c:\\users\\zace5\\anaconda3\\envs\\myenv\\lib\\site-packages (from tensorboard<2.19,>=2.18->tensorflow-intel==2.18.0->tensorflow) (3.0.6)\n",
      "Requirement already satisfied: markdown-it-py>=2.2.0 in c:\\users\\zace5\\anaconda3\\envs\\myenv\\lib\\site-packages (from rich->keras>=3.5.0->tensorflow-intel==2.18.0->tensorflow) (3.0.0)\n",
      "Requirement already satisfied: pygments<3.0.0,>=2.13.0 in c:\\users\\zace5\\anaconda3\\envs\\myenv\\lib\\site-packages (from rich->keras>=3.5.0->tensorflow-intel==2.18.0->tensorflow) (2.15.1)\n",
      "Requirement already satisfied: mdurl~=0.1 in c:\\users\\zace5\\anaconda3\\envs\\myenv\\lib\\site-packages (from markdown-it-py>=2.2.0->rich->keras>=3.5.0->tensorflow-intel==2.18.0->tensorflow) (0.1.2)\n",
      "Downloading protobuf-5.29.4-cp310-abi3-win_amd64.whl (434 kB)\n",
      "Installing collected packages: protobuf\n",
      "  Attempting uninstall: protobuf\n",
      "    Found existing installation: protobuf 6.30.2\n",
      "    Uninstalling protobuf-6.30.2:\n",
      "      Successfully uninstalled protobuf-6.30.2\n",
      "Successfully installed protobuf-5.29.4\n"
     ]
    },
    {
     "name": "stderr",
     "output_type": "stream",
     "text": [
      "  WARNING: Failed to remove contents in a temporary directory 'C:\\Users\\zace5\\anaconda3\\envs\\myenv\\Lib\\site-packages\\google\\~-pb'.\n",
      "  You can safely remove it manually.\n"
     ]
    }
   ],
   "source": [
    "pip install streamlit tensorflow pillow numpy\n"
   ]
  },
  {
   "cell_type": "code",
   "execution_count": null,
   "id": "3456e450-0340-4715-aed0-7820cde68d5c",
   "metadata": {},
   "outputs": [],
   "source": []
  },
  {
   "cell_type": "code",
   "execution_count": 15,
   "id": "dd0902a4-9b8c-40bd-b2c5-6fa5dda81588",
   "metadata": {
    "editable": true,
    "slideshow": {
     "slide_type": ""
    },
    "tags": []
   },
   "outputs": [],
   "source": [
    "#Example 5.9a\n",
    "#https://github.com/streamlit/streamlit/issues/511\n",
    "#pip install --upgrade protobuf\n",
    "#pip install streamlit\n",
    "\n",
    "import streamlit as st\n",
    "import cv2\n",
    "import numpy as np\n",
    "import pandas as pd\n",
    "from PIL import Image\n",
    "from tensorflow.keras.preprocessing.image import load_img\n",
    "from tensorflow.keras.preprocessing.image import img_to_array\n",
    "from keras.applications.imagenet_utils import decode_predictions\n",
    "import time\n",
    "import matplotlib.pyplot as plt\n",
    "import random\n",
    "import os\n",
    "\n",
    "# imports for reproducibility\n",
    "from keras import backend as K\n",
    "\n",
    "# import the models for further classification experiments\n",
    "from tensorflow.keras.applications import (vgg16, resnet50, mobilenet, inception_v3)"
   ]
  },
  {
   "cell_type": "code",
   "execution_count": 9,
   "id": "51369f3a-dced-49ab-965e-aa9815656544",
   "metadata": {},
   "outputs": [],
   "source": [
    "# Caching the model to avoid reloading every time\n",
    "# Function for VGG16 Model Prediction\n",
    "\n",
    "@st.cache_resource\n",
    "def vgg16_predict(cam_frame, image_size):\n",
    "    frame = cv2.resize(cam_frame, (image_size, image_size))\n",
    "    numpy_image = img_to_array(frame)\n",
    "    image_batch = np.expand_dims(numpy_image, axis=0)\n",
    "    processed_image = vgg16.preprocess_input(image_batch.copy())\n",
    "    \n",
    "    # get the predicted probabilities for each class\n",
    "    predictions = model.predict(processed_image)\n",
    "    label_vgg = decode_predictions(predictions)\n",
    "    \n",
    "    # Add text to the image with classification result\n",
    "    cv2.putText(cam_frame, \"VGG16: {}, {:.2f}\".format(label_vgg[0][0][1], label_vgg[0][0][2]),\n",
    "                (10, 30), cv2.FONT_HERSHEY_SIMPLEX, 0.7, (255, 0, 0), 1)\n",
    "    \n",
    "    return cam_frame"
   ]
  },
  {
   "cell_type": "code",
   "execution_count": 10,
   "id": "3d3b305a-88de-48d8-b51f-a61dba074fc3",
   "metadata": {},
   "outputs": [],
   "source": [
    "# Function for ResNet50 Model Prediction\n",
    "@st.cache_resource\n",
    "def resnet50_predict(cam_frame, image_size):\n",
    "    frame = cv2.resize(cam_frame, (image_size, image_size))\n",
    "    numpy_image = img_to_array(frame)\n",
    "    image_batch = np.expand_dims(numpy_image, axis=0)\n",
    "    \n",
    "    # prepare the image for the ResNet50 model\n",
    "    processed_image = resnet50.preprocess_input(image_batch.copy())\n",
    "    predictions = model_resnet50.predict(processed_image)\n",
    "    label_resnet = decode_predictions(predictions, top=3)\n",
    "    \n",
    "    cv2.putText(cam_frame, \"ResNet50: {}, {:.2f}\".format(label_resnet[0][0][1], label_resnet[0][0][2]),\n",
    "                (10, 30), cv2.FONT_HERSHEY_SIMPLEX, 0.7, (255, 0, 0), 1)\n",
    "    return cam_frame"
   ]
  },
  {
   "cell_type": "code",
   "execution_count": 11,
   "id": "390938dd-7a93-431a-b3c0-8b46c0db3bae",
   "metadata": {},
   "outputs": [],
   "source": [
    "# Function for MobileNet Model Prediction\n",
    "@st.cache_resource\n",
    "def mobilenet_predict(cam_frame, image_size):\n",
    "    frame = cv2.resize(cam_frame, (image_size, image_size))\n",
    "    numpy_image = img_to_array(frame)\n",
    "    image_batch = np.expand_dims(numpy_image, axis=0)\n",
    "    \n",
    "    # prepare the image for the MobileNet model\n",
    "    processed_image = mobilenet.preprocess_input(image_batch.copy())\n",
    "    predictions = model_mobilenet.predict(processed_image)\n",
    "    label_mobilenet = decode_predictions(predictions)\n",
    "    \n",
    "    cv2.putText(cam_frame, \"MobileNet: {}, {:.2f}\".format(label_mobilenet[0][0][1], label_mobilenet[0][0][2]),\n",
    "                (10, 30), cv2.FONT_HERSHEY_SIMPLEX, 0.7, (255, 0, 0), 1)\n",
    "    return cam_frame"
   ]
  },
  {
   "cell_type": "code",
   "execution_count": 12,
   "id": "fa32e6bc-f93f-40dc-9a3c-74178575e9e4",
   "metadata": {},
   "outputs": [],
   "source": [
    "# Function for InceptionV3 Model Prediction\n",
    "@st.cache_resource\n",
    "def inception_v3_predict(cam_frame, image_size):\n",
    "    frame = cv2.resize(cam_frame, (image_size, image_size))\n",
    "    numpy_image = img_to_array(frame)\n",
    "    image_batch = np.expand_dims(numpy_image, axis=0)\n",
    "    \n",
    "    # prepare the image for the InceptionV3 model\n",
    "    processed_image = inception_v3.preprocess_input(image_batch.copy())\n",
    "    predictions = model_inception_v3.predict(processed_image)\n",
    "    label_inception = decode_predictions(predictions)\n",
    "    \n",
    "    cv2.putText(cam_frame, \"Inception: {}, {:.2f}\".format(label_inception[0][0][1], label_inception[0][0][2]),\n",
    "                (10, 30), cv2.FONT_HERSHEY_SIMPLEX, 0.7, (255, 0, 0), 1)\n",
    "    return cam_frame\n"
   ]
  },
  {
   "cell_type": "code",
   "execution_count": 13,
   "id": "6892372b-d911-4bef-8e11-afecbd6772d7",
   "metadata": {},
   "outputs": [],
   "source": [
    "# Loading Models with ImageNet weights\n",
    "model_vgg16 = vgg16.VGG16(weights='imagenet')\n",
    "model_resnet50 = resnet50.ResNet50(weights='imagenet')\n",
    "model_mobilenet = mobilenet.MobileNet(weights='imagenet')\n",
    "model_inception_v3 = inception_v3.InceptionV3(weights='imagenet')\n",
    "image_size = 224"
   ]
  },
  {
   "cell_type": "code",
   "execution_count": 14,
   "id": "9da6e6d9-b1a6-4f03-b43a-58f384e6bc37",
   "metadata": {
    "editable": true,
    "slideshow": {
     "slide_type": ""
    },
    "tags": []
   },
   "outputs": [
    {
     "name": "stderr",
     "output_type": "stream",
     "text": [
      "2025-05-07 14:21:17.793 WARNING streamlit.runtime.scriptrunner_utils.script_run_context: Thread 'MainThread': missing ScriptRunContext! This warning can be ignored when running in bare mode.\n",
      "2025-05-07 14:21:19.278 \n",
      "  \u001b[33m\u001b[1mWarning:\u001b[0m to view this Streamlit app on a browser, run it with the following\n",
      "  command:\n",
      "\n",
      "    streamlit run C:\\Users\\zace5\\anaconda3\\envs\\myenv\\Lib\\site-packages\\ipykernel_launcher.py [ARGUMENTS]\n",
      "2025-05-07 14:21:19.278 Thread 'MainThread': missing ScriptRunContext! This warning can be ignored when running in bare mode.\n",
      "2025-05-07 14:21:19.278 Thread 'MainThread': missing ScriptRunContext! This warning can be ignored when running in bare mode.\n",
      "2025-05-07 14:21:19.279 Thread 'MainThread': missing ScriptRunContext! This warning can be ignored when running in bare mode.\n",
      "2025-05-07 14:21:19.279 Thread 'MainThread': missing ScriptRunContext! This warning can be ignored when running in bare mode.\n",
      "2025-05-07 14:21:19.280 Thread 'MainThread': missing ScriptRunContext! This warning can be ignored when running in bare mode.\n"
     ]
    },
    {
     "data": {
      "text/plain": [
       "DeltaGenerator(_root_container=1, _parent=DeltaGenerator())"
      ]
     },
     "execution_count": 14,
     "metadata": {},
     "output_type": "execute_result"
    }
   ],
   "source": [
    "# Streamlit Web App Layout\n",
    "frameST = st.empty()\n",
    "st.title(\"Image Classification\")\n",
    "st.sidebar.markdown(\"# Image Classification\")"
   ]
  },
  {
   "cell_type": "code",
   "execution_count": null,
   "id": "ddd417bd-c7f3-49ca-92e6-64f6635130d4",
   "metadata": {},
   "outputs": [],
   "source": []
  }
 ],
 "metadata": {
  "kernelspec": {
   "display_name": "Python 3 (ipykernel)",
   "language": "python",
   "name": "python3"
  },
  "language_info": {
   "codemirror_mode": {
    "name": "ipython",
    "version": 3
   },
   "file_extension": ".py",
   "mimetype": "text/x-python",
   "name": "python",
   "nbconvert_exporter": "python",
   "pygments_lexer": "ipython3",
   "version": "3.12.7"
  }
 },
 "nbformat": 4,
 "nbformat_minor": 5
}
