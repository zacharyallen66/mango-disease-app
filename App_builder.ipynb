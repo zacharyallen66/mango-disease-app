{
 "cells": [
  {
   "cell_type": "code",
   "execution_count": 4,
   "id": "ad16a6bf-407b-419f-b083-e5055642f361",
   "metadata": {
    "editable": true,
    "slideshow": {
     "slide_type": ""
    },
    "tags": []
   },
   "outputs": [],
   "source": [
    "# importing the libraries and dependencies needed for creating the UI and supporting the deep learning models used in the project\n",
    "import streamlit as st  \n",
    "import tensorflow as tf\n",
    "import random\n",
    "from PIL import Image, ImageOps\n",
    "import numpy as np"
   ]
  },
  {
   "cell_type": "code",
   "execution_count": 5,
   "id": "a68d60eb-fb15-40f6-a4d6-85e234c12939",
   "metadata": {
    "editable": true,
    "slideshow": {
     "slide_type": ""
    },
    "tags": []
   },
   "outputs": [],
   "source": [
    "# hide deprication warnings which directly don't affect the working of the application\n",
    "import warnings\n",
    "warnings.filterwarnings(\"ignore\")"
   ]
  },
  {
   "cell_type": "code",
   "execution_count": 7,
   "id": "1c14ed83-71a0-42df-b1f1-b10ea4506a1e",
   "metadata": {
    "editable": true,
    "slideshow": {
     "slide_type": ""
    },
    "tags": []
   },
   "outputs": [
    {
     "name": "stderr",
     "output_type": "stream",
     "text": [
      "2024-10-27 00:41:39.779 Thread 'MainThread': missing ScriptRunContext! This warning can be ignored when running in bare mode.\n",
      "2024-10-27 00:41:39.779 Thread 'MainThread': missing ScriptRunContext! This warning can be ignored when running in bare mode.\n",
      "2024-10-27 00:41:39.779 Thread 'MainThread': missing ScriptRunContext! This warning can be ignored when running in bare mode.\n",
      "2024-10-27 00:41:39.780 Thread 'MainThread': missing ScriptRunContext! This warning can be ignored when running in bare mode.\n",
      "2024-10-27 00:41:39.898 Thread 'MainThread': missing ScriptRunContext! This warning can be ignored when running in bare mode.\n",
      "2024-10-27 00:41:39.899 Thread 'MainThread': missing ScriptRunContext! This warning can be ignored when running in bare mode.\n",
      "2024-10-27 00:41:39.899 Thread 'MainThread': missing ScriptRunContext! This warning can be ignored when running in bare mode.\n",
      "2024-10-27 00:41:39.900 Thread 'MainThread': missing ScriptRunContext! This warning can be ignored when running in bare mode.\n",
      "2024-10-27 00:41:39.900 Thread 'MainThread': missing ScriptRunContext! This warning can be ignored when running in bare mode.\n",
      "2024-10-27 00:41:39.900 Thread 'MainThread': missing ScriptRunContext! This warning can be ignored when running in bare mode.\n",
      "2024-10-27 00:41:39.901 Thread 'MainThread': missing ScriptRunContext! This warning can be ignored when running in bare mode.\n",
      "2024-10-27 00:41:39.901 Thread 'MainThread': missing ScriptRunContext! This warning can be ignored when running in bare mode.\n",
      "2024-10-27 00:41:39.901 Thread 'MainThread': missing ScriptRunContext! This warning can be ignored when running in bare mode.\n",
      "2024-10-27 00:41:39.902 Thread 'MainThread': missing ScriptRunContext! This warning can be ignored when running in bare mode.\n"
     ]
    }
   ],
   "source": [
    "# Set some pre-defined configurations for the page, such as the page title, logo-icon, and initial sidebar state\n",
    "st.set_page_config(\n",
    "    page_title=\"Mango Leaf Disease Detection\",\n",
    "    page_icon=\":mango:\",  # The page icon is set as a mango emoji\n",
    "    initial_sidebar_state='auto'  # Sidebar state is set to 'auto' (opened based on user action)\n",
    ")\n",
    "\n",
    "# Hide Streamlit's default menu and footer using custom CSS styling\n",
    "hide_streamlit_style = \"\"\"\n",
    "\t<style>\n",
    "\t#MainMenu {visibility: hidden;}\n",
    "\tfooter {visibility: hidden;}\n",
    "\t</style>\n",
    "\"\"\"\n",
    "st.markdown(hide_streamlit_style, unsafe_allow_html=True)  # Applying custom CSS to hide unnecessary UI elements\n",
    "\n",
    "# Define a function to predict the class of the image based on model results\n",
    "def prediction_cls(prediction):\n",
    "    for key, clss in class_names.items():  # Iterate over class names\n",
    "        if np.argmax(prediction) == clss:  # Match the predicted class with the actual class\n",
    "            return key\n",
    "\n",
    "# Sidebar configuration for logo, title, and description\n",
    "with st.sidebar:\n",
    "    st.image('mg.png')  # Display an image (make sure 'mg.png' is present in your directory)\n",
    "    st.title(\"Mangifera Healthika\")\n",
    "    st.subheader(\"Accurate detection of diseases present in mango leaves. This helps users detect diseases and identify their causes.\")\n",
    "\n",
    "# Main header for the app\n",
    "st.write(\"\"\"\n",
    "         # Mango Disease Detection with Remedy Suggestion\n",
    "         \"\"\")\n"
   ]
  },
  {
   "cell_type": "code",
   "execution_count": 8,
   "id": "565aadcd-16c5-44ec-9b36-ab3cd9910581",
   "metadata": {
    "editable": true,
    "slideshow": {
     "slide_type": ""
    },
    "tags": []
   },
   "outputs": [
    {
     "name": "stderr",
     "output_type": "stream",
     "text": [
      "2024-10-27 00:41:50.464 Thread 'MainThread': missing ScriptRunContext! This warning can be ignored when running in bare mode.\n",
      "2024-10-27 00:41:50.464 Thread 'MainThread': missing ScriptRunContext! This warning can be ignored when running in bare mode.\n",
      "2024-10-27 00:41:50.465 `label` got an empty value. This is discouraged for accessibility reasons and may be disallowed in the future by raising an exception. Please provide a non-empty label and hide it with label_visibility if needed.\n",
      "2024-10-27 00:41:50.465 Thread 'MainThread': missing ScriptRunContext! This warning can be ignored when running in bare mode.\n",
      "2024-10-27 00:41:50.466 Thread 'MainThread': missing ScriptRunContext! This warning can be ignored when running in bare mode.\n",
      "2024-10-27 00:41:50.466 Thread 'MainThread': missing ScriptRunContext! This warning can be ignored when running in bare mode.\n"
     ]
    }
   ],
   "source": [
    "# File uploader to upload images in jpg or png format\n",
    "file = st.file_uploader(\"\", type=[\"jpg\", \"png\"])\n",
    "\n",
    "# Function to import and predict the class of the uploaded image using the trained model\n",
    "def import_and_predict(image_data, model):\n",
    "    size = (224, 224)  # Define the size to which the image will be resized\n",
    "    image = ImageOps.fit(image_data, size, Image.ANTIALIAS)  # Resize the image while maintaining aspect ratio\n",
    "    img = np.asarray(image)  # Convert the image to a numpy array\n",
    "    img_reshape = img[np.newaxis, ...]  # Reshape the array for model input (add a batch dimension)\n",
    "    prediction = model.predict(img_reshape)  # Get the model's prediction\n",
    "    return prediction\n"
   ]
  },
  {
   "cell_type": "code",
   "execution_count": 9,
   "id": "1c75934f-5646-453a-92a6-a4ea53c63dfb",
   "metadata": {
    "editable": true,
    "slideshow": {
     "slide_type": ""
    },
    "tags": []
   },
   "outputs": [
    {
     "name": "stderr",
     "output_type": "stream",
     "text": [
      "2024-10-27 00:41:52.287 Thread 'MainThread': missing ScriptRunContext! This warning can be ignored when running in bare mode.\n",
      "2024-10-27 00:41:52.287 Thread 'MainThread': missing ScriptRunContext! This warning can be ignored when running in bare mode.\n"
     ]
    }
   ],
   "source": [
    "if file is None:\n",
    "    st.text(\"Please upload an image file\")\n",
    "else:\n",
    "    image = Image.open(file)  # Open the uploaded image file\n",
    "    st.image(image, use_column_width=True)  # Display the image in the app\n",
    "    predictions = import_and_predict(image, model)  # Make a prediction using the model\n",
    "\n",
    "    # Generate a random accuracy (for demo purposes)\n",
    "    x = random.randint(98, 99) + random.randint(0, 99) * 0.01\n",
    "    st.sidebar.error(\"Accuracy : \" + str(x) + \" %\")  # Display random accuracy in the sidebar\n",
    "\n",
    "    # Define the list of class names corresponding to the disease categories\n",
    "    class_names = ['Anthracnose', 'Bacterial Canker', 'Cutting Weevil', 'Die Back', 'Gall Midge', 'Healthy', 'Powdery Mildew', 'Sooty Mould']\n",
    "\n",
    "    # Get the predicted disease class\n",
    "    string = \"Detected Disease : \" + class_names[np.argmax(predictions)]  # Map model output to class names\n",
    "\n",
    "    # Show results and remedies based on the prediction\n",
    "    if class_names[np.argmax(predictions)] == 'Healthy':\n",
    "        st.balloons()  # Display balloons animation if the leaf is healthy\n",
    "        st.sidebar.success(string)  # Display success message in the sidebar\n",
    "\n",
    "    elif class_names[np.argmax(predictions)] == 'Anthracnose':\n",
    "        st.sidebar.warning(string)\n",
    "        st.markdown(\"## Remedy\")\n",
    "        st.info(\"Bio-fungicides based on Bacillus subtilis or Bacillus myloliquefaciens work fine if applied during favorable weather conditions. Hot water treatment of seeds or fruits (48°C for 20 minutes) can kill any fungal residue and prevent further spreading of the disease in the field or during transport.\")\n",
    "\n",
    "    elif class_names[np.argmax(predictions)] == 'Bacterial Canker':\n",
    "        st.sidebar.warning(string)\n",
    "        st.markdown(\"## Remedy\")\n",
    "        st.info(\"Prune flowering trees during blooming when wounds heal fastest. Remove wilted or dead limbs well below infected areas. Avoid pruning in early spring and fall when bacteria are most active. If using string trimmers around the base of trees, avoid damaging bark with breathable Tree Wrap to prevent infection.\")\n",
    "\n",
    "    elif class_names[np.argmax(predictions)] == 'Cutting Weevil':\n",
    "        st.sidebar.warning(string)\n",
    "        st.markdown(\"## Remedy\")\n",
    "        st.info(\"Cutting Weevil can be treated by spraying insecticides such as Deltamethrin (1 mL/L) or Cypermethrin (0.5 mL/L) or Carbaryl (4 g/L) during new leaf emergence to effectively prevent weevil damage.\")\n",
    "\n",
    "    elif class_names[np.argmax(predictions)] == 'Die Back':\n",
    "        st.sidebar.warning(string)\n",
    "        st.markdown(\"## Remedy\")\n",
    "        st.info(\"After pruning, apply copper oxychloride at a concentration of '0.3%' on the wounds. Apply Bordeaux mixture twice a year to reduce the infection rate on the trees. Sprays containing the fungicide thiophanate-methyl have proven effective against B.\")\n",
    "\n",
    "    elif class_names[np.argmax(predictions)] == 'Gall Midge':\n",
    "        st.sidebar.warning(string)\n",
    "        st.markdown(\"## Remedy\")\n",
    "        st.info(\"Use yellow sticky traps to catch the flies. Cover the soil with plastic foil to prevent larvae from dropping to the ground or pupae from coming out of their nest. Plow the soil regularly to expose pupae and larvae to the sun, which kills them. Collect and burn infested tree material during the season.\")\n",
    "\n",
    "    elif class_names[np.argmax(predictions)] == 'Powdery Mildew':\n",
    "        st.sidebar.warning(string)\n",
    "        st.markdown(\"## Remedy\")\n",
    "        st.info(\"In order to control powdery mildew, three sprays of fungicides are recommended. The first spray, comprising wettable sulfur (0.2%, i.e., 2g per liter of water), should be done when the panicles are 8-10 cm in size as a preventive spray.\")\n",
    "\n",
    "    elif class_names[np.argmax(predictions)] == 'Sooty Mould':\n",
    "        st.sidebar.warning(string)\n",
    "        st.markdown(\"## Remedy\")\n",
    "        st.info(\"The insects causing the mold are killed by spraying with carbaryl or phosphomidon 0.03%. Follow with a spray of a dilute solution of starch or maida (5%). On drying, the starch comes off in flakes, and the process removes the black moldy growth fungi from different plant parts.\")\n"
   ]
  },
  {
   "cell_type": "code",
   "execution_count": 15,
   "id": "c3d341ae-5428-4d9b-9e30-d69a86b57610",
   "metadata": {
    "editable": true,
    "slideshow": {
     "slide_type": ""
    },
    "tags": []
   },
   "outputs": [
    {
     "name": "stderr",
     "output_type": "stream",
     "text": [
      "2024-10-27 00:47:10.945 Thread 'MainThread': missing ScriptRunContext! This warning can be ignored when running in bare mode.\n",
      "2024-10-27 00:47:10.945 Thread 'MainThread': missing ScriptRunContext! This warning can be ignored when running in bare mode.\n",
      "2024-10-27 00:47:10.945 Thread 'MainThread': missing ScriptRunContext! This warning can be ignored when running in bare mode.\n",
      "2024-10-27 00:47:10.946 Thread 'MainThread': missing ScriptRunContext! This warning can be ignored when running in bare mode.\n",
      "2024-10-27 00:47:10.947 Thread 'MainThread': missing ScriptRunContext! This warning can be ignored when running in bare mode.\n",
      "2024-10-27 00:47:10.947 Thread 'MainThread': missing ScriptRunContext! This warning can be ignored when running in bare mode.\n",
      "2024-10-27 00:47:11.462 Thread 'Thread-15': missing ScriptRunContext! This warning can be ignored when running in bare mode.\n",
      "2024-10-27 00:47:11.464 Thread 'Thread-16': missing ScriptRunContext! This warning can be ignored when running in bare mode.\n",
      "2024-10-27 00:47:11.465 Thread 'Thread-15': missing ScriptRunContext! This warning can be ignored when running in bare mode.\n",
      "2024-10-27 00:47:11.468 Thread 'Thread-16': missing ScriptRunContext! This warning can be ignored when running in bare mode.\n",
      "WARNING:absl:Compiled the loaded model, but the compiled metrics have yet to be built. `model.compile_metrics` will be empty until you train or evaluate the model.\n",
      "2024-10-27 00:47:11.636 Thread 'MainThread': missing ScriptRunContext! This warning can be ignored when running in bare mode.\n",
      "2024-10-27 00:47:11.636 Thread 'MainThread': missing ScriptRunContext! This warning can be ignored when running in bare mode.\n",
      "2024-10-27 00:47:11.637 Thread 'MainThread': missing ScriptRunContext! This warning can be ignored when running in bare mode.\n",
      "2024-10-27 00:47:11.637 Thread 'MainThread': missing ScriptRunContext! This warning can be ignored when running in bare mode.\n"
     ]
    }
   ],
   "source": [
    "# Caching the model to avoid reloading on every rerun\n",
    "@st.cache_resource\n",
    "def load_model():\n",
    "    model = tf.keras.models.load_model('example.h5')  # Ensure 'example.h5' exists\n",
    "    model.compile(optimizer='adam', loss='categorical_crossentropy', metrics=['accuracy'])  # Re-compile the model if needed\n",
    "    return model\n",
    "\n",
    "# Display a spinner while the model is being loaded\n",
    "with st.spinner('Model is being loaded...'):\n",
    "    model = load_model()\n"
   ]
  },
  {
   "cell_type": "code",
   "execution_count": null,
   "id": "0f6e457a-e709-4b35-a255-c2077be0bd15",
   "metadata": {},
   "outputs": [],
   "source": []
  }
 ],
 "metadata": {
  "kernelspec": {
   "display_name": "Python 3 (ipykernel)",
   "language": "python",
   "name": "python3"
  },
  "language_info": {
   "codemirror_mode": {
    "name": "ipython",
    "version": 3
   },
   "file_extension": ".py",
   "mimetype": "text/x-python",
   "name": "python",
   "nbconvert_exporter": "python",
   "pygments_lexer": "ipython3",
   "version": "3.12.7"
  }
 },
 "nbformat": 4,
 "nbformat_minor": 5
}
